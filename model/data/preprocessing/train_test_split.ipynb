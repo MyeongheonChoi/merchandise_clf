{
 "cells": [
  {
   "cell_type": "code",
   "execution_count": 8,
   "metadata": {
    "ExecuteTime": {
     "end_time": "2022-07-18T01:46:28.302042Z",
     "start_time": "2022-07-18T01:46:28.295270Z"
    },
    "executionInfo": {
     "elapsed": 1221,
     "status": "ok",
     "timestamp": 1657259118774,
     "user": {
      "displayName": "최명헌(상경대학 응용통계학과)",
      "userId": "10090737482813706438"
     },
     "user_tz": -540
    },
    "id": "31RnqPcRVqCq"
   },
   "outputs": [],
   "source": [
    "from sklearn.model_selection import train_test_split\n",
    "import pandas as pd\n",
    "import numpy as np"
   ]
  },
  {
   "cell_type": "code",
   "execution_count": 9,
   "metadata": {
    "ExecuteTime": {
     "end_time": "2022-07-18T01:46:34.663335Z",
     "start_time": "2022-07-18T01:46:28.782739Z"
    },
    "executionInfo": {
     "elapsed": 6474,
     "status": "ok",
     "timestamp": 1657259792368,
     "user": {
      "displayName": "최명헌(상경대학 응용통계학과)",
      "userId": "10090737482813706438"
     },
     "user_tz": -540
    },
    "id": "TpOHZIHbVy5L"
   },
   "outputs": [],
   "source": [
    "cased = pd.read_csv('regularized_cased.csv', index_col = 0)\n",
    "uncased = pd.read_csv('regularized_uncased.csv', index_col = 0)\n",
    "nonumber = pd.read_csv('nonumber.csv', index_col = 0)"
   ]
  },
  {
   "cell_type": "code",
   "execution_count": 10,
   "metadata": {
    "ExecuteTime": {
     "end_time": "2022-07-18T01:46:36.233571Z",
     "start_time": "2022-07-18T01:46:35.421169Z"
    },
    "executionInfo": {
     "elapsed": 2007,
     "status": "ok",
     "timestamp": 1657259794368,
     "user": {
      "displayName": "최명헌(상경대학 응용통계학과)",
      "userId": "10090737482813706438"
     },
     "user_tz": -540
    },
    "id": "W9BTu7vhWdTx"
   },
   "outputs": [],
   "source": [
    "d = uncased.drop_duplicates(subset = ['업체명_r', '업종'], keep = 'first')\n",
    "e = d.drop_duplicates(subset = '업체명_r', keep = False)"
   ]
  },
  {
   "cell_type": "code",
   "execution_count": 25,
   "metadata": {
    "ExecuteTime": {
     "end_time": "2022-07-18T01:52:20.377097Z",
     "start_time": "2022-07-18T01:52:19.947259Z"
    }
   },
   "outputs": [],
   "source": [
    "idx = list(set(e.index) & set(nonumber.index))"
   ]
  },
  {
   "cell_type": "code",
   "execution_count": 34,
   "metadata": {
    "ExecuteTime": {
     "end_time": "2022-07-18T01:55:09.412098Z",
     "start_time": "2022-07-18T01:55:07.829059Z"
    }
   },
   "outputs": [],
   "source": [
    "_, test_idx = train_test_split(idx, test_size = 100000, stratify = cased.loc[idx, '업종'])"
   ]
  },
  {
   "cell_type": "code",
   "execution_count": 45,
   "metadata": {
    "ExecuteTime": {
     "end_time": "2022-07-18T01:57:34.017952Z",
     "start_time": "2022-07-18T01:57:33.143837Z"
    }
   },
   "outputs": [],
   "source": [
    "cased_test = cased.loc[test_idx, :]\n",
    "cased_train = cased.drop(test_idx)\n",
    "\n",
    "uncased_test = uncased.loc[test_idx, :]\n",
    "uncased_train = uncased.drop(test_idx)\n",
    "\n",
    "nonumber_test = nonumber.loc[test_idx, :]\n",
    "nonumber_train = nonumber.drop(test_idx)"
   ]
  },
  {
   "cell_type": "code",
   "execution_count": 50,
   "metadata": {
    "ExecuteTime": {
     "end_time": "2022-07-18T02:01:20.810892Z",
     "start_time": "2022-07-18T02:01:13.843399Z"
    }
   },
   "outputs": [],
   "source": [
    "cased_test.to_csv('NewData/cased_test.csv')\n",
    "cased_train.to_csv('NewData/cased_train.csv')\n",
    "uncased_test.to_csv('NewData/uncased_test.csv')\n",
    "uncased_train.to_csv('NewData/uncased_train.csv')\n",
    "nonumber_test.to_csv('NewData/nonumber_test.csv')\n",
    "nonumber_train.to_csv('NewData/nonumber_train.csv')"
   ]
  },
  {
   "cell_type": "code",
   "execution_count": null,
   "metadata": {},
   "outputs": [],
   "source": []
  },
  {
   "cell_type": "code",
   "execution_count": null,
   "metadata": {},
   "outputs": [],
   "source": []
  },
  {
   "cell_type": "code",
   "execution_count": null,
   "metadata": {},
   "outputs": [],
   "source": []
  },
  {
   "cell_type": "code",
   "execution_count": null,
   "metadata": {},
   "outputs": [],
   "source": []
  },
  {
   "cell_type": "markdown",
   "metadata": {},
   "source": [
    "### 옛날"
   ]
  },
  {
   "cell_type": "code",
   "execution_count": 31,
   "metadata": {
    "executionInfo": {
     "elapsed": 374,
     "status": "ok",
     "timestamp": 1657259794737,
     "user": {
      "displayName": "최명헌(상경대학 응용통계학과)",
      "userId": "10090737482813706438"
     },
     "user_tz": -540
    },
    "id": "2JI0GsIUX5ey"
   },
   "outputs": [],
   "source": [
    "cased_ = cased.loc[e.index, :]\n",
    "uncased_ = uncased.loc[e.index, :]"
   ]
  },
  {
   "cell_type": "code",
   "execution_count": 34,
   "metadata": {
    "executionInfo": {
     "elapsed": 346,
     "status": "ok",
     "timestamp": 1657259873164,
     "user": {
      "displayName": "최명헌(상경대학 응용통계학과)",
      "userId": "10090737482813706438"
     },
     "user_tz": -540
    },
    "id": "57WeDjYFYmaa"
   },
   "outputs": [],
   "source": [
    "cased_.reset_index(drop = True, inplace = True)\n",
    "uncased_.reset_index(drop = True, inplace = True)"
   ]
  },
  {
   "cell_type": "code",
   "execution_count": 36,
   "metadata": {
    "executionInfo": {
     "elapsed": 8864,
     "status": "ok",
     "timestamp": 1657259891266,
     "user": {
      "displayName": "최명헌(상경대학 응용통계학과)",
      "userId": "10090737482813706438"
     },
     "user_tz": -540
    },
    "id": "eDE0TOyIYHIV"
   },
   "outputs": [],
   "source": [
    "cased_.to_csv('regularized_cased_.csv')\n",
    "uncased_.to_csv('regularized_uncased_.csv')"
   ]
  },
  {
   "cell_type": "code",
   "execution_count": 38,
   "metadata": {
    "executionInfo": {
     "elapsed": 2595,
     "status": "ok",
     "timestamp": 1657259951111,
     "user": {
      "displayName": "최명헌(상경대학 응용통계학과)",
      "userId": "10090737482813706438"
     },
     "user_tz": -540
    },
    "id": "hFoilN7XYI3C"
   },
   "outputs": [],
   "source": [
    "cased_train, cased_test = train_test_split(cased_, test_size = 100000, stratify = cased_['업종'])"
   ]
  },
  {
   "cell_type": "code",
   "execution_count": 41,
   "metadata": {
    "executionInfo": {
     "elapsed": 979,
     "status": "ok",
     "timestamp": 1657259993088,
     "user": {
      "displayName": "최명헌(상경대학 응용통계학과)",
      "userId": "10090737482813706438"
     },
     "user_tz": -540
    },
    "id": "5Pp_Yi8jY9fY"
   },
   "outputs": [],
   "source": [
    "uncased_train = uncased_.loc[cased_train.index, :]\n",
    "uncased_test = uncased_.loc[cased_test.index, :]"
   ]
  },
  {
   "cell_type": "code",
   "execution_count": 44,
   "metadata": {
    "executionInfo": {
     "elapsed": 6969,
     "status": "ok",
     "timestamp": 1657260059858,
     "user": {
      "displayName": "최명헌(상경대학 응용통계학과)",
      "userId": "10090737482813706438"
     },
     "user_tz": -540
    },
    "id": "-508BSovZPlK"
   },
   "outputs": [],
   "source": [
    "cased_train.to_csv('cased_train.csv')\n",
    "cased_test.to_csv('cased_test.csv')\n",
    "uncased_train.to_csv('uncased_train.csv')\n",
    "uncased_test.to_csv('uncased_test.csv')"
   ]
  },
  {
   "cell_type": "code",
   "execution_count": 43,
   "metadata": {
    "colab": {
     "base_uri": "https://localhost:8080/"
    },
    "executionInfo": {
     "elapsed": 332,
     "status": "ok",
     "timestamp": 1657260008172,
     "user": {
      "displayName": "최명헌(상경대학 응용통계학과)",
      "userId": "10090737482813706438"
     },
     "user_tz": -540
    },
    "id": "VEbACDk6ZHZh",
    "outputId": "ed16b7f3-bacb-4dd6-9bdc-3cf0925175bc"
   },
   "outputs": [
    {
     "data": {
      "text/plain": [
       "외식        19092\n",
       "생활서비스     18213\n",
       "생필품       10436\n",
       "교통/자동차     7744\n",
       "교육         6912\n",
       "의료/건강      6428\n",
       "기타소비       5949\n",
       "취미/여가      5169\n",
       "통신         4506\n",
       "미용         4472\n",
       "주류/펍       2545\n",
       "여행/숙박      2467\n",
       "카페         1757\n",
       "대형마트       1724\n",
       "편의점         894\n",
       "세금/공과금      700\n",
       "배달          514\n",
       "보험          350\n",
       "쇼핑몰         128\n",
       "Name: 업종, dtype: int64"
      ]
     },
     "execution_count": 43,
     "metadata": {},
     "output_type": "execute_result"
    }
   ],
   "source": [
    "cased_test['업종'].value_counts()"
   ]
  }
 ],
 "metadata": {
  "colab": {
   "authorship_tag": "ABX9TyN8FJrFy0TPVtKy5f8V6Nh2",
   "collapsed_sections": [],
   "mount_file_id": "1cRpUlSIbV4xOf-CV4kUP7lbLkCqbQSGw",
   "name": "train_test_split.ipynb",
   "provenance": []
  },
  "kernelspec": {
   "display_name": "Python 3 (ipykernel)",
   "language": "python",
   "name": "python3"
  },
  "language_info": {
   "codemirror_mode": {
    "name": "ipython",
    "version": 3
   },
   "file_extension": ".py",
   "mimetype": "text/x-python",
   "name": "python",
   "nbconvert_exporter": "python",
   "pygments_lexer": "ipython3",
   "version": "3.9.12"
  },
  "toc": {
   "base_numbering": 1,
   "nav_menu": {},
   "number_sections": true,
   "sideBar": true,
   "skip_h1_title": false,
   "title_cell": "Table of Contents",
   "title_sidebar": "Contents",
   "toc_cell": false,
   "toc_position": {},
   "toc_section_display": true,
   "toc_window_display": false
  }
 },
 "nbformat": 4,
 "nbformat_minor": 1
}
