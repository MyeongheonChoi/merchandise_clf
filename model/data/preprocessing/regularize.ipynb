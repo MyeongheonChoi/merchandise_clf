{
 "cells": [
  {
   "cell_type": "markdown",
   "metadata": {
    "id": "bdaj1p6jwrn6"
   },
   "source": [
    "### data preprocessing"
   ]
  },
  {
   "cell_type": "code",
   "execution_count": 1,
   "metadata": {
    "ExecuteTime": {
     "end_time": "2022-07-18T01:16:53.205313Z",
     "start_time": "2022-07-18T01:16:52.810761Z"
    },
    "id": "Y5Jw3s2nw8ef"
   },
   "outputs": [],
   "source": [
    "import numpy as np\n",
    "import pandas as pd\n",
    "from tqdm.notebook import tqdm"
   ]
  },
  {
   "cell_type": "code",
   "execution_count": 10,
   "metadata": {
    "ExecuteTime": {
     "end_time": "2022-07-18T01:20:20.655202Z",
     "start_time": "2022-07-18T01:20:20.649616Z"
    }
   },
   "outputs": [],
   "source": [
    "import re"
   ]
  },
  {
   "cell_type": "code",
   "execution_count": 26,
   "metadata": {
    "ExecuteTime": {
     "end_time": "2022-07-18T01:24:07.426390Z",
     "start_time": "2022-07-18T01:24:06.428403Z"
    },
    "colab": {
     "base_uri": "https://localhost:8080/",
     "height": 423
    },
    "executionInfo": {
     "elapsed": 1224,
     "status": "ok",
     "timestamp": 1657258570992,
     "user": {
      "displayName": "최명헌(상경대학 응용통계학과)",
      "userId": "10090737482813706438"
     },
     "user_tz": -540
    },
    "id": "2d88m6dxB1p9",
    "outputId": "85c4a382-a850-4d0a-a2bf-ed2c4319794a"
   },
   "outputs": [
    {
     "data": {
      "text/html": [
       "<div>\n",
       "<style scoped>\n",
       "    .dataframe tbody tr th:only-of-type {\n",
       "        vertical-align: middle;\n",
       "    }\n",
       "\n",
       "    .dataframe tbody tr th {\n",
       "        vertical-align: top;\n",
       "    }\n",
       "\n",
       "    .dataframe thead th {\n",
       "        text-align: right;\n",
       "    }\n",
       "</style>\n",
       "<table border=\"1\" class=\"dataframe\">\n",
       "  <thead>\n",
       "    <tr style=\"text-align: right;\">\n",
       "      <th></th>\n",
       "      <th>업체명</th>\n",
       "      <th>업종</th>\n",
       "    </tr>\n",
       "  </thead>\n",
       "  <tbody>\n",
       "    <tr>\n",
       "      <th>0</th>\n",
       "      <td>돌비하우스호텔</td>\n",
       "      <td>c16</td>\n",
       "    </tr>\n",
       "    <tr>\n",
       "      <th>1</th>\n",
       "      <td>한일관 서울식 육개장</td>\n",
       "      <td>c2</td>\n",
       "    </tr>\n",
       "    <tr>\n",
       "      <th>2</th>\n",
       "      <td>오비야 닭고기덮밥</td>\n",
       "      <td>c2</td>\n",
       "    </tr>\n",
       "    <tr>\n",
       "      <th>3</th>\n",
       "      <td>츠키지</td>\n",
       "      <td>c2</td>\n",
       "    </tr>\n",
       "    <tr>\n",
       "      <th>4</th>\n",
       "      <td>광양참숯불고기</td>\n",
       "      <td>c2</td>\n",
       "    </tr>\n",
       "    <tr>\n",
       "      <th>...</th>\n",
       "      <td>...</td>\n",
       "      <td>...</td>\n",
       "    </tr>\n",
       "    <tr>\n",
       "      <th>969163</th>\n",
       "      <td>제인 풀빌라</td>\n",
       "      <td>c16</td>\n",
       "    </tr>\n",
       "    <tr>\n",
       "      <th>969164</th>\n",
       "      <td>(재)인천교구천주교회유지재단</td>\n",
       "      <td>c8</td>\n",
       "    </tr>\n",
       "    <tr>\n",
       "      <th>969165</th>\n",
       "      <td>거창축산</td>\n",
       "      <td>c2</td>\n",
       "    </tr>\n",
       "    <tr>\n",
       "      <th>969166</th>\n",
       "      <td>주식회사 포디아트</td>\n",
       "      <td>c19</td>\n",
       "    </tr>\n",
       "    <tr>\n",
       "      <th>969167</th>\n",
       "      <td>시큐허브</td>\n",
       "      <td>c19</td>\n",
       "    </tr>\n",
       "  </tbody>\n",
       "</table>\n",
       "<p>969168 rows × 2 columns</p>\n",
       "</div>"
      ],
      "text/plain": [
       "                    업체명   업종\n",
       "0               돌비하우스호텔  c16\n",
       "1           한일관 서울식 육개장   c2\n",
       "2             오비야 닭고기덮밥   c2\n",
       "3                   츠키지   c2\n",
       "4               광양참숯불고기   c2\n",
       "...                 ...  ...\n",
       "969163           제인 풀빌라  c16\n",
       "969164  (재)인천교구천주교회유지재단   c8\n",
       "969165             거창축산   c2\n",
       "969166        주식회사 포디아트  c19\n",
       "969167             시큐허브  c19\n",
       "\n",
       "[969168 rows x 2 columns]"
      ]
     },
     "execution_count": 26,
     "metadata": {},
     "output_type": "execute_result"
    }
   ],
   "source": [
    "df = pd.read_csv('label_drop_duplicate.csv', index_col = 0)\n",
    "df"
   ]
  },
  {
   "cell_type": "code",
   "execution_count": 15,
   "metadata": {
    "ExecuteTime": {
     "end_time": "2022-07-18T01:22:15.414174Z",
     "start_time": "2022-07-18T01:22:15.403707Z"
    },
    "id": "QCMt_TuUQKfr"
   },
   "outputs": [],
   "source": [
    "didi = {'c1':'카페',\n",
    "        'c2':'외식',\n",
    "        'c3':'주류/펍',\n",
    "        'c4':'배달',\n",
    "        'c5':'편의점',\n",
    "        'c6':'대형마트',\n",
    "        'c7':'생필품',\n",
    "        'c8':'생활서비스',\n",
    "        'c9':'통신',\n",
    "        'c10':'쇼핑몰',\n",
    "        'c11':'온라인쇼핑',\n",
    "        'c12':'의료/건강',\n",
    "        'c13':'미용',\n",
    "        'c14':'교통/자동차',\n",
    "        'c15':'취미/여가',\n",
    "        'c16':'여행/숙박',\n",
    "        'c17':'교육',\n",
    "        'c18':'세금/공과금',\n",
    "        'c19':'기타소비',\n",
    "        'c20':'보험',\n",
    "        'c21':'미분류'}"
   ]
  },
  {
   "cell_type": "code",
   "execution_count": 16,
   "metadata": {
    "ExecuteTime": {
     "end_time": "2022-07-18T01:22:18.352848Z",
     "start_time": "2022-07-18T01:22:16.109297Z"
    },
    "id": "rAxN77sLQtFL"
   },
   "outputs": [],
   "source": [
    "data = df.replace(list(didi.keys()), list(didi.values()))"
   ]
  },
  {
   "cell_type": "code",
   "execution_count": 18,
   "metadata": {
    "ExecuteTime": {
     "end_time": "2022-07-18T01:22:45.880387Z",
     "start_time": "2022-07-18T01:22:33.319486Z"
    },
    "colab": {
     "base_uri": "https://localhost:8080/"
    },
    "executionInfo": {
     "elapsed": 10455,
     "status": "ok",
     "timestamp": 1657258780325,
     "user": {
      "displayName": "최명헌(상경대학 응용통계학과)",
      "userId": "10090737482813706438"
     },
     "user_tz": -540
    },
    "id": "WdiUs3FBSCq1",
    "outputId": "6b839af2-9fe5-45fd-ee13-614a13c58224"
   },
   "outputs": [
    {
     "data": {
      "application/vnd.jupyter.widget-view+json": {
       "model_id": "fe2d657e659745caa4a0f161b153046d",
       "version_major": 2,
       "version_minor": 0
      },
      "text/plain": [
       "  0%|          | 0/969168 [00:00<?, ?it/s]"
      ]
     },
     "metadata": {},
     "output_type": "display_data"
    }
   ],
   "source": [
    "regularized = []\n",
    "for word in tqdm(data['업체명']):\n",
    "    regularized.append(re.sub(r\"[^가-힣a-zA-Z0-9]\", \" \", word))\n",
    "    \n",
    "data['업체명_r'] = regularized\n",
    "data['업체명_r'] = data['업체명_r'].str.strip()\n",
    "\n",
    "for i in range(10):\n",
    "    data['업체명_r'] = data['업체명_r'].str.replace('  ', ' ')\n",
    "    data['업체명_r'] = data['업체명_r'].str.replace('   ', ' ')"
   ]
  },
  {
   "cell_type": "code",
   "execution_count": 25,
   "metadata": {
    "ExecuteTime": {
     "end_time": "2022-07-18T01:23:57.083268Z",
     "start_time": "2022-07-18T01:23:53.948534Z"
    },
    "colab": {
     "base_uri": "https://localhost:8080/",
     "height": 423
    },
    "executionInfo": {
     "elapsed": 3402,
     "status": "ok",
     "timestamp": 1657258786892,
     "user": {
      "displayName": "최명헌(상경대학 응용통계학과)",
      "userId": "10090737482813706438"
     },
     "user_tz": -540
    },
    "id": "hVp0F3BtSykk",
    "outputId": "94096cd8-63c7-4a16-b4b7-348debad20c9"
   },
   "outputs": [
    {
     "data": {
      "text/html": [
       "<div>\n",
       "<style scoped>\n",
       "    .dataframe tbody tr th:only-of-type {\n",
       "        vertical-align: middle;\n",
       "    }\n",
       "\n",
       "    .dataframe tbody tr th {\n",
       "        vertical-align: top;\n",
       "    }\n",
       "\n",
       "    .dataframe thead th {\n",
       "        text-align: right;\n",
       "    }\n",
       "</style>\n",
       "<table border=\"1\" class=\"dataframe\">\n",
       "  <thead>\n",
       "    <tr style=\"text-align: right;\">\n",
       "      <th></th>\n",
       "      <th>업체명</th>\n",
       "      <th>업종</th>\n",
       "      <th>업체명_r</th>\n",
       "    </tr>\n",
       "  </thead>\n",
       "  <tbody>\n",
       "    <tr>\n",
       "      <th>0</th>\n",
       "      <td>돌비하우스호텔</td>\n",
       "      <td>여행/숙박</td>\n",
       "      <td>돌비하우스호텔</td>\n",
       "    </tr>\n",
       "    <tr>\n",
       "      <th>1</th>\n",
       "      <td>한일관 서울식 육개장</td>\n",
       "      <td>외식</td>\n",
       "      <td>한일관 서울식 육개장</td>\n",
       "    </tr>\n",
       "    <tr>\n",
       "      <th>2</th>\n",
       "      <td>오비야 닭고기덮밥</td>\n",
       "      <td>외식</td>\n",
       "      <td>오비야 닭고기덮밥</td>\n",
       "    </tr>\n",
       "    <tr>\n",
       "      <th>3</th>\n",
       "      <td>츠키지</td>\n",
       "      <td>외식</td>\n",
       "      <td>츠키지</td>\n",
       "    </tr>\n",
       "    <tr>\n",
       "      <th>4</th>\n",
       "      <td>광양참숯불고기</td>\n",
       "      <td>외식</td>\n",
       "      <td>광양참숯불고기</td>\n",
       "    </tr>\n",
       "    <tr>\n",
       "      <th>...</th>\n",
       "      <td>...</td>\n",
       "      <td>...</td>\n",
       "      <td>...</td>\n",
       "    </tr>\n",
       "    <tr>\n",
       "      <th>969159</th>\n",
       "      <td>제인 풀빌라</td>\n",
       "      <td>여행/숙박</td>\n",
       "      <td>제인 풀빌라</td>\n",
       "    </tr>\n",
       "    <tr>\n",
       "      <th>969160</th>\n",
       "      <td>(재)인천교구천주교회유지재단</td>\n",
       "      <td>생활서비스</td>\n",
       "      <td>재 인천교구천주교회유지재단</td>\n",
       "    </tr>\n",
       "    <tr>\n",
       "      <th>969161</th>\n",
       "      <td>거창축산</td>\n",
       "      <td>외식</td>\n",
       "      <td>거창축산</td>\n",
       "    </tr>\n",
       "    <tr>\n",
       "      <th>969162</th>\n",
       "      <td>주식회사 포디아트</td>\n",
       "      <td>기타소비</td>\n",
       "      <td>주식회사 포디아트</td>\n",
       "    </tr>\n",
       "    <tr>\n",
       "      <th>969163</th>\n",
       "      <td>시큐허브</td>\n",
       "      <td>기타소비</td>\n",
       "      <td>시큐허브</td>\n",
       "    </tr>\n",
       "  </tbody>\n",
       "</table>\n",
       "<p>969164 rows × 3 columns</p>\n",
       "</div>"
      ],
      "text/plain": [
       "                    업체명     업종           업체명_r\n",
       "0               돌비하우스호텔  여행/숙박         돌비하우스호텔\n",
       "1           한일관 서울식 육개장     외식     한일관 서울식 육개장\n",
       "2             오비야 닭고기덮밥     외식       오비야 닭고기덮밥\n",
       "3                   츠키지     외식             츠키지\n",
       "4               광양참숯불고기     외식         광양참숯불고기\n",
       "...                 ...    ...             ...\n",
       "969159           제인 풀빌라  여행/숙박          제인 풀빌라\n",
       "969160  (재)인천교구천주교회유지재단  생활서비스  재 인천교구천주교회유지재단\n",
       "969161             거창축산     외식            거창축산\n",
       "969162        주식회사 포디아트   기타소비       주식회사 포디아트\n",
       "969163             시큐허브   기타소비            시큐허브\n",
       "\n",
       "[969164 rows x 3 columns]"
      ]
     },
     "execution_count": 25,
     "metadata": {},
     "output_type": "execute_result"
    }
   ],
   "source": [
    "idx = []\n",
    "for c in range(50):\n",
    "    idx.append(list(data[data['업체명_r'] == ' '* c].index))\n",
    "idx = sum(idx, [])\n",
    "data_ = data.drop(idx).reset_index(drop = True)\n",
    "data_"
   ]
  },
  {
   "cell_type": "code",
   "execution_count": 27,
   "metadata": {
    "ExecuteTime": {
     "end_time": "2022-07-18T01:24:27.334796Z",
     "start_time": "2022-07-18T01:24:27.288703Z"
    },
    "colab": {
     "base_uri": "https://localhost:8080/",
     "height": 206
    },
    "executionInfo": {
     "elapsed": 320,
     "status": "ok",
     "timestamp": 1657258792310,
     "user": {
      "displayName": "최명헌(상경대학 응용통계학과)",
      "userId": "10090737482813706438"
     },
     "user_tz": -540
    },
    "id": "Spte_uEsXMWr",
    "outputId": "6db918b1-06bb-4c64-9d7e-3ae888f047bf"
   },
   "outputs": [
    {
     "data": {
      "text/html": [
       "<div>\n",
       "<style scoped>\n",
       "    .dataframe tbody tr th:only-of-type {\n",
       "        vertical-align: middle;\n",
       "    }\n",
       "\n",
       "    .dataframe tbody tr th {\n",
       "        vertical-align: top;\n",
       "    }\n",
       "\n",
       "    .dataframe thead th {\n",
       "        text-align: right;\n",
       "    }\n",
       "</style>\n",
       "<table border=\"1\" class=\"dataframe\">\n",
       "  <thead>\n",
       "    <tr style=\"text-align: right;\">\n",
       "      <th></th>\n",
       "      <th>업체명</th>\n",
       "      <th>업체명_r</th>\n",
       "      <th>업종</th>\n",
       "    </tr>\n",
       "  </thead>\n",
       "  <tbody>\n",
       "    <tr>\n",
       "      <th>0</th>\n",
       "      <td>돌비하우스호텔</td>\n",
       "      <td>돌비하우스호텔</td>\n",
       "      <td>여행/숙박</td>\n",
       "    </tr>\n",
       "    <tr>\n",
       "      <th>1</th>\n",
       "      <td>한일관 서울식 육개장</td>\n",
       "      <td>한일관 서울식 육개장</td>\n",
       "      <td>외식</td>\n",
       "    </tr>\n",
       "    <tr>\n",
       "      <th>2</th>\n",
       "      <td>오비야 닭고기덮밥</td>\n",
       "      <td>오비야 닭고기덮밥</td>\n",
       "      <td>외식</td>\n",
       "    </tr>\n",
       "    <tr>\n",
       "      <th>3</th>\n",
       "      <td>츠키지</td>\n",
       "      <td>츠키지</td>\n",
       "      <td>외식</td>\n",
       "    </tr>\n",
       "    <tr>\n",
       "      <th>4</th>\n",
       "      <td>광양참숯불고기</td>\n",
       "      <td>광양참숯불고기</td>\n",
       "      <td>외식</td>\n",
       "    </tr>\n",
       "  </tbody>\n",
       "</table>\n",
       "</div>"
      ],
      "text/plain": [
       "           업체명        업체명_r     업종\n",
       "0      돌비하우스호텔      돌비하우스호텔  여행/숙박\n",
       "1  한일관 서울식 육개장  한일관 서울식 육개장     외식\n",
       "2    오비야 닭고기덮밥    오비야 닭고기덮밥     외식\n",
       "3          츠키지          츠키지     외식\n",
       "4      광양참숯불고기      광양참숯불고기     외식"
      ]
     },
     "execution_count": 27,
     "metadata": {},
     "output_type": "execute_result"
    }
   ],
   "source": [
    "data_ = data_[['업체명', '업체명_r','업종']]\n",
    "data_.head()"
   ]
  },
  {
   "cell_type": "code",
   "execution_count": 28,
   "metadata": {
    "ExecuteTime": {
     "end_time": "2022-07-18T01:24:32.032835Z",
     "start_time": "2022-07-18T01:24:30.416427Z"
    },
    "colab": {
     "base_uri": "https://localhost:8080/"
    },
    "executionInfo": {
     "elapsed": 2413,
     "status": "ok",
     "timestamp": 1657258797761,
     "user": {
      "displayName": "최명헌(상경대학 응용통계학과)",
      "userId": "10090737482813706438"
     },
     "user_tz": -540
    },
    "id": "GghozNiaYsZb",
    "outputId": "509f5b32-ffdc-4d04-8eec-72d6acea139e"
   },
   "outputs": [
    {
     "data": {
      "text/plain": [
       "밥               3\n",
       "다방              2\n",
       "C D             2\n",
       "한수개별용달 한수이삿짐    2\n",
       "상도동입주청소 이사청소    2\n",
       "               ..\n",
       "코디              2\n",
       "C S             2\n",
       "J J스크린골프        2\n",
       "밥먹자             2\n",
       "한전케이디엔 주        2\n",
       "Name: 업체명_r, Length: 123, dtype: int64"
      ]
     },
     "execution_count": 28,
     "metadata": {},
     "output_type": "execute_result"
    }
   ],
   "source": [
    "data_['업체명_r'].value_counts()[data_['업체명_r'].value_counts() >= 2]"
   ]
  },
  {
   "cell_type": "code",
   "execution_count": 29,
   "metadata": {
    "ExecuteTime": {
     "end_time": "2022-07-18T01:24:37.391068Z",
     "start_time": "2022-07-18T01:24:36.910697Z"
    },
    "id": "qHhKEKW4Y_rz"
   },
   "outputs": [],
   "source": [
    "data_drop = data_.drop_duplicates(subset = ['업체명_r', '업종'], keep = 'first').reset_index(drop = True)"
   ]
  },
  {
   "cell_type": "code",
   "execution_count": 30,
   "metadata": {
    "ExecuteTime": {
     "end_time": "2022-07-18T01:24:38.958419Z",
     "start_time": "2022-07-18T01:24:38.938203Z"
    },
    "colab": {
     "base_uri": "https://localhost:8080/",
     "height": 423
    },
    "executionInfo": {
     "elapsed": 348,
     "status": "ok",
     "timestamp": 1657258809398,
     "user": {
      "displayName": "최명헌(상경대학 응용통계학과)",
      "userId": "10090737482813706438"
     },
     "user_tz": -540
    },
    "id": "hT6J80xfNslC",
    "outputId": "23097cf5-24e6-4f66-e728-cb1ec7823ab0"
   },
   "outputs": [
    {
     "data": {
      "text/html": [
       "<div>\n",
       "<style scoped>\n",
       "    .dataframe tbody tr th:only-of-type {\n",
       "        vertical-align: middle;\n",
       "    }\n",
       "\n",
       "    .dataframe tbody tr th {\n",
       "        vertical-align: top;\n",
       "    }\n",
       "\n",
       "    .dataframe thead th {\n",
       "        text-align: right;\n",
       "    }\n",
       "</style>\n",
       "<table border=\"1\" class=\"dataframe\">\n",
       "  <thead>\n",
       "    <tr style=\"text-align: right;\">\n",
       "      <th></th>\n",
       "      <th>업체명</th>\n",
       "      <th>업체명_r</th>\n",
       "      <th>업종</th>\n",
       "    </tr>\n",
       "  </thead>\n",
       "  <tbody>\n",
       "    <tr>\n",
       "      <th>0</th>\n",
       "      <td>돌비하우스호텔</td>\n",
       "      <td>돌비하우스호텔</td>\n",
       "      <td>여행/숙박</td>\n",
       "    </tr>\n",
       "    <tr>\n",
       "      <th>1</th>\n",
       "      <td>한일관 서울식 육개장</td>\n",
       "      <td>한일관 서울식 육개장</td>\n",
       "      <td>외식</td>\n",
       "    </tr>\n",
       "    <tr>\n",
       "      <th>2</th>\n",
       "      <td>오비야 닭고기덮밥</td>\n",
       "      <td>오비야 닭고기덮밥</td>\n",
       "      <td>외식</td>\n",
       "    </tr>\n",
       "    <tr>\n",
       "      <th>3</th>\n",
       "      <td>츠키지</td>\n",
       "      <td>츠키지</td>\n",
       "      <td>외식</td>\n",
       "    </tr>\n",
       "    <tr>\n",
       "      <th>4</th>\n",
       "      <td>광양참숯불고기</td>\n",
       "      <td>광양참숯불고기</td>\n",
       "      <td>외식</td>\n",
       "    </tr>\n",
       "    <tr>\n",
       "      <th>...</th>\n",
       "      <td>...</td>\n",
       "      <td>...</td>\n",
       "      <td>...</td>\n",
       "    </tr>\n",
       "    <tr>\n",
       "      <th>969064</th>\n",
       "      <td>제인 풀빌라</td>\n",
       "      <td>제인 풀빌라</td>\n",
       "      <td>여행/숙박</td>\n",
       "    </tr>\n",
       "    <tr>\n",
       "      <th>969065</th>\n",
       "      <td>(재)인천교구천주교회유지재단</td>\n",
       "      <td>재 인천교구천주교회유지재단</td>\n",
       "      <td>생활서비스</td>\n",
       "    </tr>\n",
       "    <tr>\n",
       "      <th>969066</th>\n",
       "      <td>거창축산</td>\n",
       "      <td>거창축산</td>\n",
       "      <td>외식</td>\n",
       "    </tr>\n",
       "    <tr>\n",
       "      <th>969067</th>\n",
       "      <td>주식회사 포디아트</td>\n",
       "      <td>주식회사 포디아트</td>\n",
       "      <td>기타소비</td>\n",
       "    </tr>\n",
       "    <tr>\n",
       "      <th>969068</th>\n",
       "      <td>시큐허브</td>\n",
       "      <td>시큐허브</td>\n",
       "      <td>기타소비</td>\n",
       "    </tr>\n",
       "  </tbody>\n",
       "</table>\n",
       "<p>969069 rows × 3 columns</p>\n",
       "</div>"
      ],
      "text/plain": [
       "                    업체명           업체명_r     업종\n",
       "0               돌비하우스호텔         돌비하우스호텔  여행/숙박\n",
       "1           한일관 서울식 육개장     한일관 서울식 육개장     외식\n",
       "2             오비야 닭고기덮밥       오비야 닭고기덮밥     외식\n",
       "3                   츠키지             츠키지     외식\n",
       "4               광양참숯불고기         광양참숯불고기     외식\n",
       "...                 ...             ...    ...\n",
       "969064           제인 풀빌라          제인 풀빌라  여행/숙박\n",
       "969065  (재)인천교구천주교회유지재단  재 인천교구천주교회유지재단  생활서비스\n",
       "969066             거창축산            거창축산     외식\n",
       "969067        주식회사 포디아트       주식회사 포디아트   기타소비\n",
       "969068             시큐허브            시큐허브   기타소비\n",
       "\n",
       "[969069 rows x 3 columns]"
      ]
     },
     "execution_count": 30,
     "metadata": {},
     "output_type": "execute_result"
    }
   ],
   "source": [
    "data_drop"
   ]
  },
  {
   "cell_type": "code",
   "execution_count": 31,
   "metadata": {
    "ExecuteTime": {
     "end_time": "2022-07-18T01:24:42.210892Z",
     "start_time": "2022-07-18T01:24:40.664110Z"
    },
    "colab": {
     "base_uri": "https://localhost:8080/"
    },
    "executionInfo": {
     "elapsed": 1392,
     "status": "ok",
     "timestamp": 1657258817253,
     "user": {
      "displayName": "최명헌(상경대학 응용통계학과)",
      "userId": "10090737482813706438"
     },
     "user_tz": -540
    },
    "id": "wDBtG5GhNwYx",
    "outputId": "8a39db3f-792f-4b94-e241-e0d9ba08e79c"
   },
   "outputs": [
    {
     "data": {
      "text/plain": [
       "서비스                 2\n",
       "성진T S               2\n",
       "B K                 2\n",
       "청우개발                2\n",
       "C S                 2\n",
       "C F                 2\n",
       "N                   2\n",
       "좋은느낌                2\n",
       "조아                  2\n",
       "믹스                  2\n",
       "씨티                  2\n",
       "에스                  2\n",
       "더풋                  2\n",
       "아베 홀리               2\n",
       "러브                  2\n",
       "봉자                  2\n",
       "자연                  2\n",
       "아로마                 2\n",
       "A                   2\n",
       "즐겨찾기                2\n",
       "C D                 2\n",
       "J S                 2\n",
       "1                   2\n",
       "미                   2\n",
       "대성홀딩스 주 정보통신사업부문    2\n",
       "J J                 2\n",
       "한잔할래                2\n",
       "M J                 2\n",
       "P G S               2\n",
       "Name: 업체명_r, dtype: int64"
      ]
     },
     "execution_count": 31,
     "metadata": {},
     "output_type": "execute_result"
    }
   ],
   "source": [
    "data_drop['업체명_r'].value_counts()[data_drop['업체명_r'].value_counts() >= 2]"
   ]
  },
  {
   "cell_type": "code",
   "execution_count": 32,
   "metadata": {
    "ExecuteTime": {
     "end_time": "2022-07-18T01:24:45.552626Z",
     "start_time": "2022-07-18T01:24:45.218162Z"
    },
    "id": "bAE4KKdKea3s"
   },
   "outputs": [],
   "source": [
    "data_drop_ = data_drop.drop_duplicates(subset = ['업체명_r'], keep = False).reset_index(drop = True)"
   ]
  },
  {
   "cell_type": "code",
   "execution_count": 33,
   "metadata": {
    "ExecuteTime": {
     "end_time": "2022-07-18T01:24:56.279154Z",
     "start_time": "2022-07-18T01:24:55.841070Z"
    },
    "id": "UfUwNWyDbCfo"
   },
   "outputs": [],
   "source": [
    "cased = data_drop_.copy()\n",
    "uncased = data_drop_.copy()\n",
    "uncased['업체명_r'] = uncased['업체명_r'].str.lower()"
   ]
  },
  {
   "cell_type": "code",
   "execution_count": 34,
   "metadata": {
    "ExecuteTime": {
     "end_time": "2022-07-18T01:25:52.512291Z",
     "start_time": "2022-07-18T01:25:47.984084Z"
    },
    "id": "jnmKZ7FjPy3j"
   },
   "outputs": [],
   "source": [
    "cased.to_csv('regularized_cased.csv')\n",
    "uncased.to_csv('regularized_uncased.csv')"
   ]
  },
  {
   "cell_type": "code",
   "execution_count": 85,
   "metadata": {
    "ExecuteTime": {
     "end_time": "2022-07-18T01:46:12.074913Z",
     "start_time": "2022-07-18T01:46:11.147239Z"
    },
    "id": "DQqVHaq2Vdv-"
   },
   "outputs": [
    {
     "name": "stderr",
     "output_type": "stream",
     "text": [
      "/tmp/ipykernel_4901/2737205613.py:2: FutureWarning: The default value of regex will change from True to False in a future version.\n",
      "  number['업체명_r'] = number['업체명_r'].str.replace('[0-9]+', '#')\n"
     ]
    }
   ],
   "source": [
    "number = data_drop_.copy()\n",
    "number['업체명_r'] = number['업체명_r'].str.replace('[0-9]+', '#')"
   ]
  },
  {
   "cell_type": "code",
   "execution_count": 86,
   "metadata": {
    "ExecuteTime": {
     "end_time": "2022-07-18T01:46:16.574754Z",
     "start_time": "2022-07-18T01:46:13.445139Z"
    }
   },
   "outputs": [
    {
     "data": {
      "text/html": [
       "<div>\n",
       "<style scoped>\n",
       "    .dataframe tbody tr th:only-of-type {\n",
       "        vertical-align: middle;\n",
       "    }\n",
       "\n",
       "    .dataframe tbody tr th {\n",
       "        vertical-align: top;\n",
       "    }\n",
       "\n",
       "    .dataframe thead th {\n",
       "        text-align: right;\n",
       "    }\n",
       "</style>\n",
       "<table border=\"1\" class=\"dataframe\">\n",
       "  <thead>\n",
       "    <tr style=\"text-align: right;\">\n",
       "      <th></th>\n",
       "      <th>업체명</th>\n",
       "      <th>업체명_r</th>\n",
       "      <th>업종</th>\n",
       "    </tr>\n",
       "  </thead>\n",
       "  <tbody>\n",
       "    <tr>\n",
       "      <th>0</th>\n",
       "      <td>돌비하우스호텔</td>\n",
       "      <td>돌비하우스호텔</td>\n",
       "      <td>여행/숙박</td>\n",
       "    </tr>\n",
       "    <tr>\n",
       "      <th>1</th>\n",
       "      <td>한일관 서울식 육개장</td>\n",
       "      <td>한일관 서울식 육개장</td>\n",
       "      <td>외식</td>\n",
       "    </tr>\n",
       "    <tr>\n",
       "      <th>2</th>\n",
       "      <td>오비야 닭고기덮밥</td>\n",
       "      <td>오비야 닭고기덮밥</td>\n",
       "      <td>외식</td>\n",
       "    </tr>\n",
       "    <tr>\n",
       "      <th>3</th>\n",
       "      <td>츠키지</td>\n",
       "      <td>츠키지</td>\n",
       "      <td>외식</td>\n",
       "    </tr>\n",
       "    <tr>\n",
       "      <th>4</th>\n",
       "      <td>광양참숯불고기</td>\n",
       "      <td>광양참숯불고기</td>\n",
       "      <td>외식</td>\n",
       "    </tr>\n",
       "    <tr>\n",
       "      <th>...</th>\n",
       "      <td>...</td>\n",
       "      <td>...</td>\n",
       "      <td>...</td>\n",
       "    </tr>\n",
       "    <tr>\n",
       "      <th>969006</th>\n",
       "      <td>제인 풀빌라</td>\n",
       "      <td>제인 풀빌라</td>\n",
       "      <td>여행/숙박</td>\n",
       "    </tr>\n",
       "    <tr>\n",
       "      <th>969007</th>\n",
       "      <td>(재)인천교구천주교회유지재단</td>\n",
       "      <td>재 인천교구천주교회유지재단</td>\n",
       "      <td>생활서비스</td>\n",
       "    </tr>\n",
       "    <tr>\n",
       "      <th>969008</th>\n",
       "      <td>거창축산</td>\n",
       "      <td>거창축산</td>\n",
       "      <td>외식</td>\n",
       "    </tr>\n",
       "    <tr>\n",
       "      <th>969009</th>\n",
       "      <td>주식회사 포디아트</td>\n",
       "      <td>주식회사 포디아트</td>\n",
       "      <td>기타소비</td>\n",
       "    </tr>\n",
       "    <tr>\n",
       "      <th>969010</th>\n",
       "      <td>시큐허브</td>\n",
       "      <td>시큐허브</td>\n",
       "      <td>기타소비</td>\n",
       "    </tr>\n",
       "  </tbody>\n",
       "</table>\n",
       "<p>968949 rows × 3 columns</p>\n",
       "</div>"
      ],
      "text/plain": [
       "                    업체명           업체명_r     업종\n",
       "0               돌비하우스호텔         돌비하우스호텔  여행/숙박\n",
       "1           한일관 서울식 육개장     한일관 서울식 육개장     외식\n",
       "2             오비야 닭고기덮밥       오비야 닭고기덮밥     외식\n",
       "3                   츠키지             츠키지     외식\n",
       "4               광양참숯불고기         광양참숯불고기     외식\n",
       "...                 ...             ...    ...\n",
       "969006           제인 풀빌라          제인 풀빌라  여행/숙박\n",
       "969007  (재)인천교구천주교회유지재단  재 인천교구천주교회유지재단  생활서비스\n",
       "969008             거창축산            거창축산     외식\n",
       "969009        주식회사 포디아트       주식회사 포디아트   기타소비\n",
       "969010             시큐허브            시큐허브   기타소비\n",
       "\n",
       "[968949 rows x 3 columns]"
      ]
     },
     "execution_count": 86,
     "metadata": {},
     "output_type": "execute_result"
    }
   ],
   "source": [
    "idx = []\n",
    "for c in range(50):\n",
    "    idx.append(list(number[number['업체명_r'] == '#'* c].index))\n",
    "idx = sum(idx, [])\n",
    "number_ = number.drop(idx)\n",
    "number_"
   ]
  },
  {
   "cell_type": "code",
   "execution_count": 87,
   "metadata": {
    "ExecuteTime": {
     "end_time": "2022-07-18T01:46:17.664983Z",
     "start_time": "2022-07-18T01:46:17.219503Z"
    }
   },
   "outputs": [],
   "source": [
    "number_drop = number_.drop_duplicates(subset = ['업체명_r', '업종'])"
   ]
  },
  {
   "cell_type": "code",
   "execution_count": 88,
   "metadata": {
    "ExecuteTime": {
     "end_time": "2022-07-18T01:46:18.709946Z",
     "start_time": "2022-07-18T01:46:18.366413Z"
    }
   },
   "outputs": [],
   "source": [
    "number_drop_ = number_drop.drop_duplicates(subset = '업체명_r', keep = False)"
   ]
  },
  {
   "cell_type": "code",
   "execution_count": 89,
   "metadata": {
    "ExecuteTime": {
     "end_time": "2022-07-18T01:46:21.402641Z",
     "start_time": "2022-07-18T01:46:19.292392Z"
    }
   },
   "outputs": [],
   "source": [
    "number_drop_.to_csv('nonumber.csv')"
   ]
  },
  {
   "cell_type": "code",
   "execution_count": null,
   "metadata": {},
   "outputs": [],
   "source": []
  }
 ],
 "metadata": {
  "colab": {
   "collapsed_sections": [],
   "name": "regularize.ipynb",
   "provenance": []
  },
  "gpuClass": "standard",
  "kernelspec": {
   "display_name": "Python 3 (ipykernel)",
   "language": "python",
   "name": "python3"
  },
  "language_info": {
   "codemirror_mode": {
    "name": "ipython",
    "version": 3
   },
   "file_extension": ".py",
   "mimetype": "text/x-python",
   "name": "python",
   "nbconvert_exporter": "python",
   "pygments_lexer": "ipython3",
   "version": "3.9.12"
  },
  "toc": {
   "base_numbering": 1,
   "nav_menu": {},
   "number_sections": true,
   "sideBar": true,
   "skip_h1_title": false,
   "title_cell": "Table of Contents",
   "title_sidebar": "Contents",
   "toc_cell": false,
   "toc_position": {},
   "toc_section_display": true,
   "toc_window_display": false
  }
 },
 "nbformat": 4,
 "nbformat_minor": 1
}
